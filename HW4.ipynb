{
 "cells": [
  {
   "cell_type": "markdown",
   "metadata": {},
   "source": [
    "### 將json檔讀進陣列texts並轉成繁體"
   ]
  },
  {
   "cell_type": "code",
   "execution_count": 2,
   "metadata": {},
   "outputs": [],
   "source": [
    "import json\n",
    "from opencc import OpenCC\n",
    "cc = OpenCC('s2t')\n",
    "texts = []\n",
    "\n",
    "for ABC in range(0,4):\n",
    "    foldName = ''\n",
    "    if ABC == 0:\n",
    "        foldName = 'AA'\n",
    "    elif ABC == 1:\n",
    "        foldName = 'AB'\n",
    "    elif ABC == 2:\n",
    "        foldName = 'AC'\n",
    "    elif ABC == 3:\n",
    "        foldName = 'AD'        \n",
    "        \n",
    "    for i in range(0,99):\n",
    "        fileName = ''\n",
    "        if i < 10:\n",
    "            fileName = './wiki_zh/'+ foldName +'/wiki_0'+str(i)\n",
    "        else:\n",
    "            fileName = './wiki_zh/'+ foldName +'/wiki_'+str(i)\n",
    "\n",
    "\n",
    "        file = open(fileName, 'r', encoding='utf-8')\n",
    "        datas = []\n",
    "        for line in file.readlines():\n",
    "            dic = json.loads(line)\n",
    "            datas.append(dic)\n",
    "\n",
    "        for data in datas:\n",
    "            texts.append(cc.convert(data['text']))"
   ]
  },
  {
   "cell_type": "code",
   "execution_count": 3,
   "metadata": {},
   "outputs": [],
   "source": [
    "for ABC in range(0,4):\n",
    "    foldName = ''\n",
    "    if ABC == 0:\n",
    "        foldName = 'AE'\n",
    "    elif ABC == 1:\n",
    "        foldName = 'AF'\n",
    "    elif ABC == 2:\n",
    "        foldName = 'AG'\n",
    "    elif ABC == 3:\n",
    "        foldName = 'AH'        \n",
    "        \n",
    "    for i in range(0,99):\n",
    "        fileName = ''\n",
    "        if i < 10:\n",
    "            fileName = './wiki_zh/'+ foldName +'/wiki_0'+str(i)\n",
    "        else:\n",
    "            fileName = './wiki_zh/'+ foldName +'/wiki_'+str(i)\n",
    "\n",
    "\n",
    "        file = open(fileName, 'r', encoding='utf-8')\n",
    "        datas = []\n",
    "        for line in file.readlines():\n",
    "            dic = json.loads(line)\n",
    "            datas.append(dic)\n",
    "\n",
    "        for data in datas:\n",
    "            texts.append(cc.convert(data['text']))"
   ]
  },
  {
   "cell_type": "code",
   "execution_count": 4,
   "metadata": {},
   "outputs": [],
   "source": [
    "for ABC in range(0,4):\n",
    "    foldName = ''\n",
    "    if ABC == 0:\n",
    "        foldName = 'AI'\n",
    "    elif ABC == 1:\n",
    "        foldName = 'AJ'\n",
    "    elif ABC == 2:\n",
    "        foldName = 'AK'\n",
    "    elif ABC == 3:\n",
    "        foldName = 'AL'        \n",
    "        \n",
    "    for i in range(0,99):\n",
    "        fileName = ''\n",
    "        if i < 10:\n",
    "            fileName = './wiki_zh/'+ foldName +'/wiki_0'+str(i)\n",
    "        else:\n",
    "            fileName = './wiki_zh/'+ foldName +'/wiki_'+str(i)\n",
    "\n",
    "\n",
    "        file = open(fileName, 'r', encoding='utf-8')\n",
    "        datas = []\n",
    "        for line in file.readlines():\n",
    "            dic = json.loads(line)\n",
    "            datas.append(dic)\n",
    "\n",
    "        for data in datas:\n",
    "            texts.append(cc.convert(data['text']))"
   ]
  },
  {
   "cell_type": "code",
   "execution_count": 5,
   "metadata": {},
   "outputs": [],
   "source": [
    "for i in range(0,74):\n",
    "    fileName = ''\n",
    "    if i < 10:\n",
    "        fileName = './wiki_zh/AM/wiki_0'+str(i)\n",
    "    else:\n",
    "        fileName = './wiki_zh/AM/wiki_'+str(i)\n",
    "\n",
    "\n",
    "    file = open(fileName, 'r', encoding='utf-8')\n",
    "    datas = []\n",
    "    for line in file.readlines():\n",
    "        dic = json.loads(line)\n",
    "        datas.append(dic)\n",
    "\n",
    "    for data in datas:\n",
    "        texts.append(cc.convert(data['text']))"
   ]
  },
  {
   "cell_type": "markdown",
   "metadata": {},
   "source": [
    "### 斷詞 "
   ]
  },
  {
   "cell_type": "code",
   "execution_count": 7,
   "metadata": {},
   "outputs": [
    {
     "name": "stderr",
     "output_type": "stream",
     "text": [
      "Building prefix dict from D:\\temp\\dict.txt-v2.big ...\n",
      "Loading model from cache C:\\Users\\YPLABG~1\\AppData\\Local\\Temp\\jieba.u27844e1f1f2ba7553ff203fe1af487bf.cache\n",
      "Loading model cost 0.492 seconds.\n",
      "Prefix dict has been built successfully.\n"
     ]
    }
   ],
   "source": [
    "import jieba\n",
    "\n",
    "jieba.set_dictionary('dict.txt-v2.big')\n",
    "jiebaTexts = []\n",
    "\n",
    "\n",
    "with open('wiki_text_seg.txt', 'w', encoding='utf-8') as new_f:\n",
    "    for text in texts:\n",
    "        stopwords = {}.fromkeys(['\\n','。','(',')','\"','、','，','（','）','“','”','《','》',\"'\",'」','「',';','：','；','…','－','—',',','·'])\n",
    "\n",
    "        segs = ' '.join(jieba.cut(text, cut_all=False, HMM=True))\n",
    "        jiebaText = ''\n",
    "        for seg in segs:\n",
    "            if seg not in stopwords:\n",
    "                jiebaText = jiebaText + seg\n",
    "\n",
    "        jiebaTexts.append(jiebaText)\n",
    "        new_f.write(jiebaText)"
   ]
  },
  {
   "cell_type": "markdown",
   "metadata": {},
   "source": [
    "### 訓練模型 "
   ]
  },
  {
   "cell_type": "code",
   "execution_count": 9,
   "metadata": {},
   "outputs": [
    {
     "name": "stderr",
     "output_type": "stream",
     "text": [
      "C:\\Users\\yplabGaming\\anaconda3\\lib\\site-packages\\gensim\\similarities\\__init__.py:15: UserWarning: The gensim.similarities.levenshtein submodule is disabled, because the optional Levenshtein package <https://pypi.org/project/python-Levenshtein/> is unavailable. Install Levenhstein (e.g. `pip install python-Levenshtein`) to suppress this warning.\n",
      "  warnings.warn(msg)\n"
     ]
    }
   ],
   "source": [
    "from gensim.models import word2vec\n",
    "\n",
    "\n",
    "# Settings\n",
    "seed = 666\n",
    "sg = 0\n",
    "window_size = 10\n",
    "vector_size = 100\n",
    "min_count = 1\n",
    "workers = 8\n",
    "epochs = 5\n",
    "batch_words = 10000\n",
    "\n",
    "train_data = word2vec.LineSentence('wiki_text_seg.txt')\n",
    "model = word2vec.Word2Vec(\n",
    "    train_data,\n",
    "    min_count=min_count,\n",
    "    vector_size=vector_size,\n",
    "    workers=workers,\n",
    "    epochs=epochs,\n",
    "    window=window_size,\n",
    "    sg=sg,\n",
    "    seed=seed,\n",
    "    batch_words=batch_words\n",
    ")\n",
    "\n",
    "model.save('word2vec.model')"
   ]
  },
  {
   "cell_type": "code",
   "execution_count": 5,
   "metadata": {},
   "outputs": [
    {
     "name": "stdout",
     "output_type": "stream",
     "text": [
      "(100,)\n",
      "('SISTAR', 0.7896067500114441)\n",
      "('少女時代', 0.7513371706008911)\n",
      "('TWICE', 0.7392740249633789)\n",
      "('EXO', 0.7318074703216553)\n",
      "('BIGBANG', 0.7298304438591003)\n",
      "('Sorry', 0.728175163269043)\n",
      "('GOT7', 0.7279499173164368)\n",
      "('2NE1', 0.7233940362930298)\n",
      "('MOMOLAND', 0.7191405296325684)\n",
      "('太妍', 0.715019702911377)\n",
      "('韶宥', 0.7142708897590637)\n",
      "('頌樂', 0.7137808799743652)\n",
      "('Zico', 0.7137689590454102)\n",
      "('BLACKPINK', 0.7132528424263)\n",
      "('WINNER', 0.7130399346351624)\n",
      "('2PM', 0.7074006795883179)\n",
      "('song', 0.7035488486289978)\n",
      "('Apink', 0.6999593377113342)\n",
      "('宋旻浩', 0.6998363137245178)\n",
      "('SS501', 0.6991770267486572)\n"
     ]
    }
   ],
   "source": [
    "from gensim.models import word2vec\n",
    "import numpy as np\n",
    "\n",
    "model = word2vec.Word2Vec.load('word2vec.model')\n",
    "#print(model.wv['Linux'].shape)#維度\n",
    "\n",
    "# Zero padding\n",
    "padding = np.zeros((model.vector_size,), dtype=np.float32)\n",
    "\n",
    "\n",
    "# Error process\n",
    "try:\n",
    "    print(model.wv[\"IU\"].shape)\n",
    "    for item in model.wv.most_similar('IU',topn= 20):\n",
    "        print(item)    \n",
    "except:\n",
    "    print(\"此字詞未在字典中\")\n",
    "    print(padding.shape)"
   ]
  },
  {
   "cell_type": "code",
   "execution_count": null,
   "metadata": {},
   "outputs": [],
   "source": []
  }
 ],
 "metadata": {
  "kernelspec": {
   "display_name": "Python 3",
   "language": "python",
   "name": "python3"
  },
  "language_info": {
   "codemirror_mode": {
    "name": "ipython",
    "version": 3
   },
   "file_extension": ".py",
   "mimetype": "text/x-python",
   "name": "python",
   "nbconvert_exporter": "python",
   "pygments_lexer": "ipython3",
   "version": "3.8.5"
  }
 },
 "nbformat": 4,
 "nbformat_minor": 4
}
