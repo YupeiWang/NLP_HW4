{
 "cells": [
  {
   "cell_type": "code",
   "execution_count": 18,
   "metadata": {},
   "outputs": [
    {
     "name": "stdout",
     "output_type": "stream",
     "text": [
      "數學\n",
      "哲學\n",
      "文學\n",
      "歷史\n",
      "計算機科學\n",
      "民族\n",
      "戲劇\n",
      "電影\n",
      "音樂\n",
      "經濟學\n",
      "政治學\n",
      "法學\n",
      "社會學\n",
      "軍事學\n",
      "信息學\n",
      "物理學\n",
      "天文學\n",
      "力學\n",
      "化學\n",
      "地理學\n",
      "地質學\n",
      "氣象學\n",
      "生物學\n",
      "心理學\n",
      "中醫學\n",
      "海洋學\n",
      "水文學\n",
      "測繪學\n",
      "農業\n",
      "統一資源定位符\n",
      "計算\n",
      "數據結構\n",
      "設計模式\n",
      "中華人民共和國\n",
      "中國計算機科學大事年表\n",
      "克利斯登·奈加特\n",
      "Self\n",
      "Linux內核\n",
      "林納斯·託瓦茲\n",
      "理查德·斯托曼\n",
      "自由軟件基金會\n",
      "2003年7月\n",
      "孫中山\n",
      "操作系統\n",
      "操作系統列表\n",
      "Linux\n",
      "GNU計劃\n",
      "自由軟件運動\n",
      "材料科學\n",
      "諾貝爾獎\n",
      "植物學\n",
      "生命\n",
      "Wiki\n",
      "程序設計\n",
      "計算機程序\n",
      "中國歷史\n",
      "亳州市\n",
      "計算機網絡\n",
      "語言列表\n",
      "上海市\n",
      "史家\n",
      "開放源代碼\n",
      "計算數學\n",
      "高德納\n"
     ]
    }
   ],
   "source": [
    "import json\n",
    "from opencc import OpenCC\n",
    "cc = OpenCC('s2t')\n",
    "\n",
    "file = open(\"./wiki_zh/AA/wiki_00\", 'r', encoding='utf-8')\n",
    "datas = []\n",
    "for line in file.readlines():\n",
    "    dic = json.loads(line)\n",
    "    datas.append(dic)\n",
    "    \n",
    "#print(papers)\n",
    "for data in datas:\n",
    "    print(cc.convert(data['title']))"
   ]
  },
  {
   "cell_type": "code",
   "execution_count": 3,
   "metadata": {},
   "outputs": [
    {
     "name": "stdout",
     "output_type": "stream",
     "text": [
      "投票當天需攜帶投票通知單、國民身分證及印章，若沒有收到投票通知書，可以向户籍所在地鄰長查詢投票所，印章則是可以用簽名代替，至於身分證則是一定要攜帶。\n"
     ]
    }
   ],
   "source": [
    "from opencc import OpenCC\n",
    "\n",
    "cc = OpenCC('t2hk')\n",
    "text = '投票當天需攜帶投票通知單、國民身分證及印章，若沒有收到投票通知書，可以向戶籍所在地鄰長查詢投票所，印章則是可以用簽名代替，至於身分證則是一定要攜帶。'\n",
    "\n",
    "print(cc.convert(text))"
   ]
  }
 ],
 "metadata": {
  "kernelspec": {
   "display_name": "Python 3",
   "language": "python",
   "name": "python3"
  },
  "language_info": {
   "codemirror_mode": {
    "name": "ipython",
    "version": 3
   },
   "file_extension": ".py",
   "mimetype": "text/x-python",
   "name": "python",
   "nbconvert_exporter": "python",
   "pygments_lexer": "ipython3",
   "version": "3.8.5"
  }
 },
 "nbformat": 4,
 "nbformat_minor": 4
}
