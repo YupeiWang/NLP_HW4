{
 "cells": [
  {
   "cell_type": "markdown",
   "metadata": {},
   "source": [
    "### 將json檔讀進陣列texts並轉成繁體"
   ]
  },
  {
   "cell_type": "code",
   "execution_count": 2,
   "metadata": {},
   "outputs": [],
   "source": [
    "import json\n",
    "from opencc import OpenCC\n",
    "cc = OpenCC('s2t')\n",
    "texts = []\n",
    "\n",
    "for ABC in range(0,4):\n",
    "    foldName = ''\n",
    "    if ABC == 0:\n",
    "        foldName = 'AA'\n",
    "    elif ABC == 1:\n",
    "        foldName = 'AB'\n",
    "    elif ABC == 2:\n",
    "        foldName = 'AC'\n",
    "    elif ABC == 3:\n",
    "        foldName = 'AD'        \n",
    "        \n",
    "    for i in range(0,99):\n",
    "        fileName = ''\n",
    "        if i < 10:\n",
    "            fileName = './wiki_zh/'+ foldName +'/wiki_0'+str(i)\n",
    "        else:\n",
    "            fileName = './wiki_zh/'+ foldName +'/wiki_'+str(i)\n",
    "\n",
    "\n",
    "        file = open(fileName, 'r', encoding='utf-8')\n",
    "        datas = []\n",
    "        for line in file.readlines():\n",
    "            dic = json.loads(line)\n",
    "            datas.append(dic)\n",
    "\n",
    "        for data in datas:\n",
    "            texts.append(cc.convert(data['text']))"
   ]
  },
  {
   "cell_type": "code",
   "execution_count": 3,
   "metadata": {},
   "outputs": [],
   "source": [
    "for ABC in range(0,4):\n",
    "    foldName = ''\n",
    "    if ABC == 0:\n",
    "        foldName = 'AE'\n",
    "    elif ABC == 1:\n",
    "        foldName = 'AF'\n",
    "    elif ABC == 2:\n",
    "        foldName = 'AG'\n",
    "    elif ABC == 3:\n",
    "        foldName = 'AH'        \n",
    "        \n",
    "    for i in range(0,99):\n",
    "        fileName = ''\n",
    "        if i < 10:\n",
    "            fileName = './wiki_zh/'+ foldName +'/wiki_0'+str(i)\n",
    "        else:\n",
    "            fileName = './wiki_zh/'+ foldName +'/wiki_'+str(i)\n",
    "\n",
    "\n",
    "        file = open(fileName, 'r', encoding='utf-8')\n",
    "        datas = []\n",
    "        for line in file.readlines():\n",
    "            dic = json.loads(line)\n",
    "            datas.append(dic)\n",
    "\n",
    "        for data in datas:\n",
    "            texts.append(cc.convert(data['text']))"
   ]
  },
  {
   "cell_type": "code",
   "execution_count": 4,
   "metadata": {},
   "outputs": [],
   "source": [
    "for ABC in range(0,4):\n",
    "    foldName = ''\n",
    "    if ABC == 0:\n",
    "        foldName = 'AI'\n",
    "    elif ABC == 1:\n",
    "        foldName = 'AJ'\n",
    "    elif ABC == 2:\n",
    "        foldName = 'AK'\n",
    "    elif ABC == 3:\n",
    "        foldName = 'AL'        \n",
    "        \n",
    "    for i in range(0,99):\n",
    "        fileName = ''\n",
    "        if i < 10:\n",
    "            fileName = './wiki_zh/'+ foldName +'/wiki_0'+str(i)\n",
    "        else:\n",
    "            fileName = './wiki_zh/'+ foldName +'/wiki_'+str(i)\n",
    "\n",
    "\n",
    "        file = open(fileName, 'r', encoding='utf-8')\n",
    "        datas = []\n",
    "        for line in file.readlines():\n",
    "            dic = json.loads(line)\n",
    "            datas.append(dic)\n",
    "\n",
    "        for data in datas:\n",
    "            texts.append(cc.convert(data['text']))"
   ]
  },
  {
   "cell_type": "code",
   "execution_count": 5,
   "metadata": {},
   "outputs": [],
   "source": [
    "for i in range(0,74):\n",
    "    fileName = ''\n",
    "    if i < 10:\n",
    "        fileName = './wiki_zh/AM/wiki_0'+str(i)\n",
    "    else:\n",
    "        fileName = './wiki_zh/AM/wiki_'+str(i)\n",
    "\n",
    "\n",
    "    file = open(fileName, 'r', encoding='utf-8')\n",
    "    datas = []\n",
    "    for line in file.readlines():\n",
    "        dic = json.loads(line)\n",
    "        datas.append(dic)\n",
    "\n",
    "    for data in datas:\n",
    "        texts.append(cc.convert(data['text']))"
   ]
  },
  {
   "cell_type": "markdown",
   "metadata": {},
   "source": [
    "### 斷詞 "
   ]
  },
  {
   "cell_type": "code",
   "execution_count": 7,
   "metadata": {},
   "outputs": [
    {
     "name": "stderr",
     "output_type": "stream",
     "text": [
      "Building prefix dict from D:\\temp\\dict.txt-v2.big ...\n",
      "Loading model from cache C:\\Users\\YPLABG~1\\AppData\\Local\\Temp\\jieba.u27844e1f1f2ba7553ff203fe1af487bf.cache\n",
      "Loading model cost 0.492 seconds.\n",
      "Prefix dict has been built successfully.\n"
     ]
    }
   ],
   "source": [
    "import jieba\n",
    "\n",
    "jieba.set_dictionary('dict.txt-v2.big')\n",
    "jiebaTexts = []\n",
    "\n",
    "\n",
    "with open('wiki_text_seg.txt', 'w', encoding='utf-8') as new_f:\n",
    "    for text in texts:\n",
    "        stopwords = {}.fromkeys(['\\n','。','(',')','\"','、','，','（','）','“','”','《','》',\"'\",'」','「',';','：','；','…','－','—',',','·'])\n",
    "\n",
    "        segs = ' '.join(jieba.cut(text, cut_all=False, HMM=True))\n",
    "        jiebaText = ''\n",
    "        for seg in segs:\n",
    "            if seg not in stopwords:\n",
    "                jiebaText = jiebaText + seg\n",
    "\n",
    "        jiebaTexts.append(jiebaText)\n",
    "        new_f.write(jiebaText)"
   ]
  },
  {
   "cell_type": "markdown",
   "metadata": {},
   "source": [
    "### 訓練模型 "
   ]
  },
  {
   "cell_type": "code",
   "execution_count": 9,
   "metadata": {},
   "outputs": [
    {
     "name": "stderr",
     "output_type": "stream",
     "text": [
      "C:\\Users\\yplabGaming\\anaconda3\\lib\\site-packages\\gensim\\similarities\\__init__.py:15: UserWarning: The gensim.similarities.levenshtein submodule is disabled, because the optional Levenshtein package <https://pypi.org/project/python-Levenshtein/> is unavailable. Install Levenhstein (e.g. `pip install python-Levenshtein`) to suppress this warning.\n",
      "  warnings.warn(msg)\n"
     ]
    }
   ],
   "source": [
    "from gensim.models import word2vec\n",
    "\n",
    "\n",
    "# Settings\n",
    "seed = 666\n",
    "sg = 0\n",
    "window_size = 10\n",
    "vector_size = 100\n",
    "min_count = 1\n",
    "workers = 8\n",
    "epochs = 5\n",
    "batch_words = 10000\n",
    "\n",
    "train_data = word2vec.LineSentence('wiki_text_seg.txt')\n",
    "model = word2vec.Word2Vec(\n",
    "    train_data,\n",
    "    min_count=min_count,\n",
    "    vector_size=vector_size,\n",
    "    workers=workers,\n",
    "    epochs=epochs,\n",
    "    window=window_size,\n",
    "    sg=sg,\n",
    "    seed=seed,\n",
    "    batch_words=batch_words\n",
    ")\n",
    "\n",
    "model.save('word2vec.model')"
   ]
  },
  {
   "cell_type": "code",
   "execution_count": 14,
   "metadata": {},
   "outputs": [
    {
     "name": "stdout",
     "output_type": "stream",
     "text": [
      "('火星', 0.7871860265731812)\n",
      "('星球', 0.7850008010864258)\n",
      "('銀河系', 0.7714549899101257)\n",
      "('宇宙', 0.7664609551429749)\n",
      "('太陽系', 0.7592265605926514)\n",
      "('木星', 0.7561697959899902)\n",
      "('行星', 0.7452588677406311)\n",
      "('月球', 0.7414751052856445)\n",
      "('太空船', 0.732743501663208)\n",
      "('大氣層', 0.7321013808250427)\n",
      "('太空', 0.7263473868370056)\n",
      "('外太空', 0.7151302695274353)\n",
      "('母星', 0.697422206401825)\n",
      "('天王星', 0.6952759027481079)\n",
      "('土衛六', 0.6855972409248352)\n",
      "('地球表面', 0.6820533275604248)\n",
      "('冥王星', 0.6794793009757996)\n",
      "('土星', 0.678528904914856)\n",
      "('海王星', 0.6733019351959229)\n",
      "('太陽', 0.6695114374160767)\n"
     ]
    }
   ],
   "source": [
    "from gensim.models import word2vec\n",
    "\n",
    "model = word2vec.Word2Vec.load('word2vec.model')\n",
    "#print(model.wv['Linux'].shape)#維度\n",
    "\n",
    "for item in model.wv.most_similar('地球',topn= 20):\n",
    "    print(item)"
   ]
  },
  {
   "cell_type": "code",
   "execution_count": null,
   "metadata": {},
   "outputs": [],
   "source": []
  }
 ],
 "metadata": {
  "kernelspec": {
   "display_name": "Python 3",
   "language": "python",
   "name": "python3"
  },
  "language_info": {
   "codemirror_mode": {
    "name": "ipython",
    "version": 3
   },
   "file_extension": ".py",
   "mimetype": "text/x-python",
   "name": "python",
   "nbconvert_exporter": "python",
   "pygments_lexer": "ipython3",
   "version": "3.8.5"
  }
 },
 "nbformat": 4,
 "nbformat_minor": 4
}
